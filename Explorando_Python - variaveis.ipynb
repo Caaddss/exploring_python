{
 "cells": [
  {
   "cell_type": "markdown",
   "metadata": {},
   "source": [
    "# O que é uma variável em Python?\n",
    "\n",
    "Naomi Ceder\n",
    "\n",
    "2020-03-10\n",
    "\n",
    "https://naomiceder.tech, @naomiceder\n",
    "\n",
    "# Antes de começarmos:\n",
    "\n",
    "Esse notebook - https://github.com/nceder/exploring_python\n",
    "\n",
    "\n",
    "The Quick Python Book, 3rd ed, ebook FREE(de graça) até 30/05!! - http://bit.ly/quick-python\n",
    "\n",
    "\n",
    "## Modelos Mentais    \n",
    "\n",
    "Nós estaremos conversando muito sobre os \"modelos mentais\", então deixe-me explicar o que eu quero dizer com essa frase, antes de começarmos. De acordo com o wikipédia:\n",
    "\n",
    "\n",
    "Um modelo mental é uma explicação do processo sobre como tentamos explicar como funciona o mundo real através do pensamento. É uma representação do mundo ao redor e o relacionamento entre as várias partes da percepção pessoal sobre seus próprios atos e suas consequências. Modelos mentais são capazes de influenciar comportamentos e as abordagens para solucionar problemas(algo como um algoritmo pessoal) e executar tarefas.\n",
    "\n",
    "\n"
   ]
  },
  {
   "cell_type": "code",
   "execution_count": null,
   "metadata": {},
   "outputs": [],
   "source": []
  }
 ],
 "metadata": {
  "language_info": {
   "codemirror_mode": {
    "name": "ipython",
    "version": 3
   },
   "file_extension": ".py",
   "mimetype": "text/x-python",
   "name": "python",
   "nbconvert_exporter": "python",
   "pygments_lexer": "ipython3",
   "version": "3.7.3-final"
  },
  "orig_nbformat": 2,
  "kernelspec": {
   "name": "python37364bitba51f12e53eb49fcb9243f8628400830",
   "display_name": "Python 3.7.3 64-bit"
  }
 },
 "nbformat": 4,
 "nbformat_minor": 2
}