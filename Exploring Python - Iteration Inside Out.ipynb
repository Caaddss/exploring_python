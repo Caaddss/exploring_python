{
 "cells": [
  {
   "cell_type": "markdown",
   "metadata": {},
   "source": [
    "# Iteration Inside Out\n",
    "\n",
    "## Inside Python's Iteration Protocol\n",
    "\n",
    "### Naomi Ceder\n",
    "#### 2020-05-08 2 PM CDT, via https://www.twitch.tv/nceder/\n",
    "#### Videos also archived at https://bit.ly/exploring-ceder\n",
    "\n",
    "#### Yes, I am available for corporate training - contact me for info\n",
    "\n",
    "#### https://naomiceder.tech, @naomiceder**"
   ]
  },
  {
   "cell_type": "markdown",
   "metadata": {},
   "source": [
    "## Before we start \n",
    "\n",
    "This notebook can (will) be found at https://github.com/nceder/exploring_python\n",
    "\n",
    "*The Quick Python Book*, 3rd ed (contact me for a code) - http://bit.ly/quick-python\n",
    "\n",
    "PyCon 2020 Online! - https://us.pycon.org/2020/online/ \n",
    "\n",
    "Pycon 2020 Online YouTube channel - https://www.youtube.com/channel/UCMjMBMGt0WJQLeluw6qNJuA"
   ]
  },
  {
   "cell_type": "markdown",
   "metadata": {},
   "source": [
    "### A note about Python shells\n",
    "\n",
    "We'll be using this notebook to create cells that will connect to a session of the Python interpreter. This kind of session is often called a REPL  (read-eval-print-loop). It reads what you type, it evaluates it, it prints the result and repeats until you stop it. \n",
    "\n",
    "Other ways of having a Python REPL (what I, as an old-timer call a \"shell\") are:\n",
    "* running Python at the commandline\n",
    "* using ipython\n",
    "* using the shell window in IDLE\n",
    "* using the shell/command window in many IDE's\n",
    "\n",
    "I'm using Jupyter so that I can package a little bit of text more easily. \n",
    "\n",
    "**If you want to play along (please do), you can use whatever works for you.**"
   ]
  },
  {
   "cell_type": "markdown",
   "metadata": {},
   "source": [
    "## Iteration = repetition with code and data"
   ]
  },
  {
   "cell_type": "markdown",
   "metadata": {
    "slideshow": {
     "slide_type": "slide"
    }
   },
   "source": [
    "## Iteration protocol\n",
    "\n",
    "### “Python’s most powerful useful feature”\n",
    "\n",
    "-- Dave Beazley, \"[Iterations of Evolution: The Unauthorized Biography of the For-Loop](https://www.youtube.com/watch?v=2AXuhgid7E4)\""
   ]
  },
  {
   "cell_type": "code",
   "execution_count": null,
   "metadata": {
    "slideshow": {
     "slide_type": "slide"
    }
   },
   "outputs": [],
   "source": [
    "# for loop (Python style)\n",
    "a_list = [1, 2, 3, 4]\n",
    "\n",
    "for item in a_list:\n",
    "    print(item)"
   ]
  },
  {
   "cell_type": "markdown",
   "metadata": {
    "slideshow": {
     "slide_type": "slide"
    }
   },
   "source": [
    "## Obvious, right?\n",
    "\n",
    "It wasn't always so obvious..."
   ]
  },
  {
   "cell_type": "markdown",
   "metadata": {
    "slideshow": {
     "slide_type": "slide"
    }
   },
   "source": [
    "## It *used* to be surprising\n",
    "\n",
    "### Python and `for` loops\n",
    "\n",
    "The `for` statement in Python differs a bit \n",
    "from what you may be\n",
    "used to in C or Pascal.  Rather than always iterating over an\n",
    "arithmetic progression of numbers (like in Pascal), or leaving the user\n",
    "completely free in the iteration test and step (as C), Python's for \n",
    "statement iterates over the items of any sequence (e.g., a list\n",
    "or a string), in the order that they appear in the sequence.\n",
    "\n",
    "-- Python V 1.1 Docs, 1994"
   ]
  },
  {
   "cell_type": "markdown",
   "metadata": {
    "slideshow": {
     "slide_type": "slide"
    }
   },
   "source": [
    "### And it works the same for different types\n",
    "* `for key in a_dictionary:`\n",
    "* `for char in a_string:`\n",
    "* `for record in query_results:`\n",
    "* `for line in a_file:`\n",
    "\n",
    "etc..."
   ]
  },
  {
   "cell_type": "markdown",
   "metadata": {
    "slideshow": {
     "slide_type": "slide"
    }
   },
   "source": [
    "## How does that work?\n",
    "\n",
    "* **How does a `for` loop know the “next” item?**\n",
    "* **How can `for` loops use so many different types?**\n",
    "* **What makes an object “work” in a `for` loop?**"
   ]
  },
  {
   "cell_type": "markdown",
   "metadata": {
    "slideshow": {
     "slide_type": "slide"
    }
   },
   "source": [
    "## Iteration protocol\n",
    "\n",
    "* iteration in Python relies on a **protocol**, not types (from Python 2.2)\n",
    "* It's a good example of Python's “duck typing” - anything that follows the protocol can be iterated over"
   ]
  },
  {
   "cell_type": "markdown",
   "metadata": {
    "slideshow": {
     "slide_type": "slide"
    }
   },
   "source": [
    "### Iteration Protocol: \n",
    "* for iteration you need an **iterable** object\n",
    "* and an **iterator** (which Python usually handles for you)"
   ]
  },
  {
   "cell_type": "markdown",
   "metadata": {
    "slideshow": {
     "slide_type": "slide"
    }
   },
   "source": [
    "## iterable\n",
    "\n",
    "An object capable of returning its members **one at a time.** Examples of iterables include **all sequence types** (such as `list`, `str`, and `tuple`) and **some non-sequence types** like `dict`, file objects, and objects of any **classes you define** with an **`__iter__()`** method or with a **`__getitem__()`** method that implements Sequence semantics."
   ]
  },
  {
   "cell_type": "markdown",
   "metadata": {
    "slideshow": {
     "slide_type": "slide"
    }
   },
   "source": [
    "Iterables can be used in a `for` loop and in many other places where a sequence is needed (`zip()`, `map()`, …). When an iterable object is passed as an argument to the built-in function `iter()`, it returns an **iterator** for the object. This iterator is good for **one pass** over the set of values. When using iterables, it is usually **not necessary to call `iter()`** or deal with iterator objects yourself. The `for` statement **does that automatically for you,** creating a **temporary unnamed variable** to hold the iterator for the duration of the loop. *See also iterator, sequence, and generator.*\n",
    "\n",
    "--Python glossary"
   ]
  },
  {
   "cell_type": "markdown",
   "metadata": {
    "slideshow": {
     "slide_type": "slide"
    }
   },
   "source": [
    "## Iterable\n",
    "* returns members one at a time\n",
    "* e.g, `list`, `str`, `tuple` (sequence types)\n",
    "* any class with `__iter__()` method that returns iterator\n",
    "* **or** any class with `__getitem__()` with sequence semantics\n",
    "* `for` statement creates an unnamed iterator from iterable automatically"
   ]
  },
  {
   "cell_type": "markdown",
   "metadata": {
    "slideshow": {
     "slide_type": "slide"
    }
   },
   "source": [
    "### An iterable...\n",
    "\n",
    "must return an iterator when the `iter()` function is called on it.\n",
    "\n",
    "#### There are 2 ways an object can return a iterator - it can\n",
    "* have a **`__getitem__()`** method with Sequence semantics - i.e., access items by integer index in [ ].\n",
    "* implement an **`__iter__()`** method that returns an iterator (more on this soon)\n"
   ]
  },
  {
   "cell_type": "markdown",
   "metadata": {
    "slideshow": {
     "slide_type": "slide"
    }
   },
   "source": [
    "### Is it an iterable?\n",
    "* Does it have an `__iter__()` method?"
   ]
  },
  {
   "cell_type": "code",
   "execution_count": null,
   "metadata": {
    "slideshow": {
     "slide_type": "slide"
    }
   },
   "outputs": [],
   "source": [
    "# check with hasattr\n",
    "a_list = [1, 2, 3, 4]\n",
    "\n",
    "hasattr(a_list, \"__iter__\")"
   ]
  },
  {
   "cell_type": "markdown",
   "metadata": {
    "slideshow": {
     "slide_type": "slide"
    }
   },
   "source": [
    "* Does it have `__getitem__()` that is sequence compliant? (harder to decide)"
   ]
  },
  {
   "cell_type": "markdown",
   "metadata": {
    "slideshow": {
     "slide_type": "slide"
    }
   },
   "source": [
    "## Let’s make an iterable -  `Repeater`\n",
    "\n",
    "A object that can be iterated over and returns the same value for the specified number of times.\n",
    "\n",
    "```\n",
    "repeat = Repeater(\"hello\", 4)\n",
    "\n",
    "for i in repeat:\n",
    "    print(i)\n",
    "\n",
    "hello\n",
    "hello\n",
    "hello\n",
    "hello\n",
    "```"
   ]
  },
  {
   "cell_type": "markdown",
   "metadata": {
    "slideshow": {
     "slide_type": "slide"
    }
   },
   "source": [
    "### As an iterable, using `__getitem__()`"
   ]
  },
  {
   "cell_type": "code",
   "execution_count": null,
   "metadata": {
    "slideshow": {
     "slide_type": "slide"
    }
   },
   "outputs": [],
   "source": [
    "class Repeater:\n",
    "    def __init__(self, value, limit):\n",
    "        self.value = value\n",
    "        self.limit = limit\n",
    "        \n",
    "    def __getitem__(self, index):\n",
    "        if 0 <= index < self.limit:\n",
    "            return self.value\n",
    "        else:\n",
    "            raise IndexError"
   ]
  },
  {
   "cell_type": "code",
   "execution_count": null,
   "metadata": {
    "slideshow": {
     "slide_type": "slide"
    }
   },
   "outputs": [],
   "source": [
    "repeat = Repeater(\"hello\", 4)\n",
    "\n",
    "# does it have an __iter__ method?\n",
    "hasattr(repeat, \"__iter__\")"
   ]
  },
  {
   "cell_type": "code",
   "execution_count": null,
   "metadata": {
    "slideshow": {
     "slide_type": "slide"
    }
   },
   "outputs": [],
   "source": [
    "# __getitem__ with sequence semantics?\n",
    "\n",
    "repeat[4]"
   ]
  },
  {
   "cell_type": "code",
   "execution_count": null,
   "metadata": {
    "slideshow": {
     "slide_type": "slide"
    }
   },
   "outputs": [],
   "source": [
    "# can the iter() function return an iterator?\n",
    "\n",
    "iter(repeat)"
   ]
  },
  {
   "cell_type": "code",
   "execution_count": null,
   "metadata": {
    "slideshow": {
     "slide_type": "slide"
    }
   },
   "outputs": [],
   "source": [
    "# for loop\n",
    "\n",
    "for item in repeat:\n",
    "    print(item)"
   ]
  },
  {
   "cell_type": "code",
   "execution_count": null,
   "metadata": {
    "slideshow": {
     "slide_type": "slide"
    }
   },
   "outputs": [],
   "source": [
    "# list comprehension\n",
    "\n",
    "[x for x in repeat]"
   ]
  },
  {
   "cell_type": "markdown",
   "metadata": {
    "slideshow": {
     "slide_type": "slide"
    }
   },
   "source": [
    "### Behind the scenes\n",
    "\n",
    "* an iterator is being created from the `repeat` object\n",
    "* it can return the items using integer indexes starting from 0\n",
    "* it continues until an IndexError is thrown\n",
    "* each time it is iterated on a new iterator is created and it starts from the beginning"
   ]
  },
  {
   "cell_type": "code",
   "execution_count": null,
   "metadata": {
    "slideshow": {
     "slide_type": "slide"
    }
   },
   "outputs": [],
   "source": [
    "class Repeater:\n",
    "    def __init__(self, value, limit):\n",
    "        self.value = value\n",
    "        self.limit = limit\n",
    "        \n",
    "    def __getitem__(self, index):      # The bit we need for an iterable\n",
    "        if 0 <= index < self.limit:\n",
    "            return self.value\n",
    "        else:\n",
    "            raise IndexError      # only needed if we want iteration to end"
   ]
  },
  {
   "cell_type": "markdown",
   "metadata": {
    "slideshow": {
     "slide_type": "slide"
    }
   },
   "source": [
    "### Yes, it's really that simple...\n",
    "\n",
    "* ONLY the `__getitem__()` method was needed\n",
    "* an IndexError is needed to end iteration\n"
   ]
  },
  {
   "cell_type": "markdown",
   "metadata": {},
   "source": [
    "### So let's make a Fibonacci interator...\n",
    "\n",
    "\n",
    "\n",
    "\n",
    "Create a class that when instantiated will let you use index access to get the nth fibonacci number, again, up to the limit specified. \n",
    "\n",
    "* takes a maximum number\n",
    "* uses sequence semantics\n",
    "\n",
    "\n",
    "```\n",
    "fibs = FibList(6)\n",
    "fibs[5] --> 8\n",
    "fibs[0] --> 1\n",
    "```\n",
    "\n",
    "To make a class indexable it needs to implement a `__getitem__` method that takes an index and returns the element **and** it needs to raise an IndexError when the index is >= the limit.\n",
    "```\n",
    "class SomeIndexable(object):\n",
    "    def __getitem__(self, index):\n",
    "         return an_item\n",
    "```\n",
    "\n",
    "You should be able to use this in a for loop as well."
   ]
  },
  {
   "cell_type": "code",
   "execution_count": null,
   "metadata": {},
   "outputs": [],
   "source": [
    "class FibIterable:\n",
    "    def __init__(self, limit):\n",
    "        self.limit = limit\n",
    "        \n",
    "    def __getitem__(self, index):\n",
    "        a = 1\n",
    "        b = 1\n",
    "        if index >= self.limit:\n",
    "            raise IndexError\n",
    "        if index < 2:\n",
    "            return b\n",
    "        else:\n",
    "            for i in range(1, index):\n",
    "                fib = a + b\n",
    "                a, b = b, fib\n",
    "            return fib\n",
    "\n",
    "fib = FibIterable(10)\n",
    "\n",
    "fib[4]\n",
    "#for f in fib:\n",
    "#    print(f)"
   ]
  },
  {
   "cell_type": "markdown",
   "metadata": {
    "slideshow": {
     "slide_type": "slide"
    }
   },
   "source": [
    "## But... what's an *Iterator*?\n",
    "\n",
    "The Python `for` loop relies on being able to get a **next** item, but...\n",
    "\n",
    "* the **iterable** doesn't know which item is next\n",
    "* **the loop itself doesn't care** exactly where in the series that item is (or what type it is)\n",
    "* the loop relies on the **iterator** to keep track of what's next\n",
    "* any object that can do that can be iterated over, i.e., it is an **iterator**\n",
    "\n",
    "\n",
    "An **iterator** has a `__next__()` method (in Python 2 `next()`) that tracks and returns the next item in the series, and you use the `next()` function to return the next item for iteration."
   ]
  },
  {
   "cell_type": "markdown",
   "metadata": {
    "slideshow": {
     "slide_type": "slide"
    }
   },
   "source": [
    "### Iterator\n",
    "* has `__next__()` method\n",
    "* calls to `__next__()` method (`next()` function) return successive items\n",
    "* raises `StopIteration` when no more data\n",
    "* further calls just raise `StopIteration`\n",
    "* must have `__iter__()` method, which returns self\n",
    "* iterators are therefore iterables\n",
    "* once exhausted they do not “refresh”"
   ]
  },
  {
   "cell_type": "markdown",
   "metadata": {
    "slideshow": {
     "slide_type": "slide"
    }
   },
   "source": [
    "### iterator\n",
    "\n",
    "An object representing **a stream of data**. Repeated **calls to the iterator’s `__next__()`** method (or passing it to the built-in function `next()`) **return successive items** in the stream. When **no more data are available a StopIteration exception is raised** instead. At this point, the iterator object is exhausted and any further calls to its `__next__()` method just raise StopIteration again... "
   ]
  },
  {
   "cell_type": "markdown",
   "metadata": {
    "slideshow": {
     "slide_type": "slide"
    }
   },
   "source": [
    "..Iterators are required to have an `__iter__()` method that returns the iterator object itself so **every iterator is also iterable** and may be used in most places where other iterables are accepted. One notable exception is code which attempts multiple iteration passes. **A container object (such as a list) produces a fresh new iterator each time** you pass it to the `iter()` function or use it in a for loop. Attempting this **with an iterator will just return the same exhausted iterator object** used in the previous iteration pass, making it appear like an empty container.\n",
    "\n",
    "--Python glossary"
   ]
  },
  {
   "cell_type": "markdown",
   "metadata": {
    "slideshow": {
     "slide_type": "slide"
    }
   },
   "source": [
    "### Let’s make a iterator - `RepeatIterator`\n",
    "\n",
    "* implement `__next__()` method to return next item\n",
    "* implement `__iter__()` method to return itself"
   ]
  },
  {
   "cell_type": "code",
   "execution_count": null,
   "metadata": {
    "slideshow": {
     "slide_type": "slide"
    }
   },
   "outputs": [],
   "source": [
    "class RepeatIterator:\n",
    "    def __init__(self, value, limit):\n",
    "        self.value = value\n",
    "        self.limit = limit\n",
    "        self.count = 0\n",
    "        \n",
    "    def __next__(self):  \n",
    "        if self.count < self.limit:\n",
    "            self.count += 1\n",
    "            return self.value\n",
    "        else:\n",
    "            raise StopIteration\n",
    "            \n",
    "    def __iter__(self):\n",
    "        return self\n"
   ]
  },
  {
   "cell_type": "code",
   "execution_count": null,
   "metadata": {
    "slideshow": {
     "slide_type": "slide"
    }
   },
   "outputs": [],
   "source": [
    "repeat_iter = RepeatIterator(\"Hi\", 4)\n",
    "\n",
    "# __getitem__ with sequence semantics?\n",
    "repeat_iter[0]"
   ]
  },
  {
   "cell_type": "code",
   "execution_count": null,
   "metadata": {
    "slideshow": {
     "slide_type": "slide"
    }
   },
   "outputs": [],
   "source": [
    " repeat_iter = RepeatIterator(\"Hi\", 4) \n",
    "# does it have an __iter__ method?\n",
    " hasattr(repeat_iter, \"__iter__\")"
   ]
  },
  {
   "cell_type": "code",
   "execution_count": null,
   "metadata": {
    "slideshow": {
     "slide_type": "slide"
    }
   },
   "outputs": [],
   "source": [
    "# does it return next item using next() function?\n",
    "\n",
    "next(repeat_iter)"
   ]
  },
  {
   "cell_type": "code",
   "execution_count": null,
   "metadata": {
    "slideshow": {
     "slide_type": "slide"
    }
   },
   "outputs": [],
   "source": [
    "# calling iter on it, returns object itself\n",
    "print(repeat_iter)\n",
    "\n",
    "repeat_iter_iter = iter(repeat_iter)\n",
    "print(repeat_iter_iter)"
   ]
  },
  {
   "cell_type": "code",
   "execution_count": null,
   "metadata": {
    "slideshow": {
     "slide_type": "slide"
    }
   },
   "outputs": [],
   "source": [
    "# calling iter() on iterable always returns new iterator\n",
    "print(repeat)\n",
    "old_repeat_iter = iter(repeat)\n",
    "print(old_repeat_iter)"
   ]
  },
  {
   "cell_type": "code",
   "execution_count": null,
   "metadata": {
    "slideshow": {
     "slide_type": "slide"
    }
   },
   "outputs": [],
   "source": [
    "# after 1 next(), how many repetitions left?\n",
    "\n",
    "\n",
    "for item in repeat_iter:\n",
    "    print(item) \n"
   ]
  },
  {
   "cell_type": "markdown",
   "metadata": {
    "slideshow": {
     "slide_type": "slide"
    }
   },
   "source": [
    "### So making an iterator is pretty easy, too...“\n",
    "* `__next__()` method \n",
    "* `__iter__()` method that returns self\n",
    "* “exhaustion” after one pass"
   ]
  },
  {
   "cell_type": "code",
   "execution_count": null,
   "metadata": {
    "slideshow": {
     "slide_type": "slide"
    }
   },
   "outputs": [],
   "source": [
    "# Let's loop again\n",
    "\n",
    "for item in repeat_iter:\n",
    "    print(item)\n"
   ]
  },
  {
   "cell_type": "code",
   "execution_count": null,
   "metadata": {
    "slideshow": {
     "slide_type": "slide"
    }
   },
   "outputs": [],
   "source": [
    "# one more next?\n",
    "next(repeat_iter) \n"
   ]
  },
  {
   "cell_type": "markdown",
   "metadata": {},
   "source": [
    "### Behind the scenes\n",
    "* `for` called `iter()` on repeat_iter, which returned itself (to anonymous var)\n",
    "* `for` called `next()` on iterator to get values for loop\n",
    "* `for` caught `StopIteration` and stopped iterating"
   ]
  },
  {
   "cell_type": "markdown",
   "metadata": {
    "slideshow": {
     "slide_type": "slide"
    }
   },
   "source": [
    "### (but you probably want to use a generator instead... see below)"
   ]
  },
  {
   "cell_type": "markdown",
   "metadata": {
    "slideshow": {
     "slide_type": "slide"
    }
   },
   "source": [
    "## Iteration in Python\n",
    "\n",
    "* is a **protocol** (since Python 2.2)\n",
    "* requires an **iterable** to iterate over\n",
    "* requires an **iterator** (often automatically created behind the scenes) to track what's **next**\n",
    "* **iterators can be used as iterables,** but don't \"renew\"\n"
   ]
  },
  {
   "cell_type": "code",
   "execution_count": null,
   "metadata": {
    "slideshow": {
     "slide_type": "slide"
    }
   },
   "outputs": [],
   "source": [
    "class MyCounter(object):\n",
    "    def __init__(self, limit):\n",
    "        self.limit = limit\n",
    "        self._i = 0\n",
    "    \n",
    "    # def next(self): in Python2.x\n",
    "    def __next__(self):\n",
    "        if self._i < self.limit:\n",
    "            cur_value = self._i\n",
    "            self._i += 1\n",
    "            return cur_value\n",
    "        else: \n",
    "            raise StopIteration()\n",
    "    def __iter__(self):\n",
    "        return self\n",
    "\n",
    "for x in MyCounter(4):\n",
    "    print(x)"
   ]
  },
  {
   "cell_type": "markdown",
   "metadata": {
    "slideshow": {
     "slide_type": "slide"
    }
   },
   "source": [
    "### How about a Fibonacci iterator?\n",
    "\n",
    "* takes maximum number\n",
    "* doesn't use sequence semantics\n",
    "\n",
    "Let's create an iterator class that return fibonacci numbers up to limit given when the object was created. \n",
    "\n",
    "So:\n",
    "```\n",
    "my_fibiter = FibIter(6)\n",
    "for fib in my_fibiter:\n",
    "    print(fib)\n",
    "    \n",
    "1\n",
    "1\n",
    "2\n",
    "3\n",
    "5\n",
    "8\n",
    "```"
   ]
  },
  {
   "cell_type": "code",
   "execution_count": null,
   "metadata": {},
   "outputs": [],
   "source": [
    "class FibIterator:\n",
    "    def __init__(self, limit):\n",
    "        self.limit = limit\n",
    "        self.count = 0\n",
    "        self.a = 1\n",
    "        self.b = 1\n",
    "        \n",
    "    def __next__(self): \n",
    "\n",
    "        if self.count < 2:\n",
    "            fib = self.b\n",
    "        elif self.count < self.limit:\n",
    "            fib = self.a + self.b\n",
    "            self.a, self.b = self.b, fib\n",
    "        else:\n",
    "            raise StopIteration\n",
    "        self.count += 1\n",
    "        return fib\n",
    "                \n",
    "    def __iter__(self):\n",
    "        return self\n",
    "    \n",
    "fib2 = FibIterator(10)\n",
    "\n",
    "for f in fib2:\n",
    "    print(f)"
   ]
  },
  {
   "cell_type": "markdown",
   "metadata": {
    "slideshow": {
     "slide_type": "slide"
    }
   },
   "source": [
    "## Generators"
   ]
  },
  {
   "cell_type": "markdown",
   "metadata": {
    "slideshow": {
     "slide_type": "slide"
    }
   },
   "source": [
    "### Generator expressions\n",
    "\n",
    "A generator expression is another way to ceate an iterable and use next to iterate over it.\n",
    "\n",
    "* similar to a list comprehension, but uses ( ) instead of [ ]\n",
    "* iterates over iterable as called (unlike list comprehension)"
   ]
  },
  {
   "cell_type": "code",
   "execution_count": null,
   "metadata": {
    "slideshow": {
     "slide_type": "slide"
    }
   },
   "outputs": [],
   "source": [
    "# create generator expression\n",
    "repeat_gen_exp = (\"hiya\" for _ in range(5))\n",
    "print(repeat_gen_exp)\n",
    "print(hasattr(repeat_gen_exp, \"__iter__\"))\n",
    "\n",
    "print(next(repeat_gen_exp))\n",
    "for x in repeat_gen_exp:\n",
    "    print(x)\n",
    "\n",
    "#for x in repeat_gen_exp:\n",
    "#    print(x)\n",
    "\n",
    "#next(repeat_gen_exp)"
   ]
  },
  {
   "cell_type": "code",
   "execution_count": null,
   "metadata": {
    "slideshow": {
     "slide_type": "slide"
    }
   },
   "outputs": [],
   "source": [
    "a_list = [1, 2, 3, 4]\n",
    "\n",
    "# list comp is generated all at once, won't change\n",
    "a_list_gen = (z for z in a_list)\n",
    "for x in a_list_gen:\n",
    "    print(x)\n",
    "    if len(a_list) < 10:\n",
    "        a_list.append(x)\n",
    "a_list"
   ]
  },
  {
   "cell_type": "code",
   "execution_count": null,
   "metadata": {
    "slideshow": {
     "slide_type": "slide"
    }
   },
   "outputs": [],
   "source": [
    "a_list = [1, 2, 3, 4]\n",
    "\n",
    "# list comp is generated all at once, won't change\n",
    "a_list_comp = [z for z in a_list]\n",
    "for x in a_list_comp:\n",
    "    print(x)\n",
    "    if len(a_list) < 10:\n",
    "        a_list.append(x)\n",
    "a_list"
   ]
  },
  {
   "cell_type": "markdown",
   "metadata": {},
   "source": [
    "### Behind the scenes\n",
    "\n",
    "* generator objects are created when the expression is encountered, but not run until iterated over\n",
    "* generator object is an iterator\n",
    "* generator expressions actually are generator functions (see below) \n"
   ]
  },
  {
   "cell_type": "markdown",
   "metadata": {
    "slideshow": {
     "slide_type": "slide"
    }
   },
   "source": [
    "## generator functions\n",
    "\n",
    "Generator functions are functions that behave like iterators. \n",
    "\n",
    "* They save their state, so that they can know which is next\n",
    "* They use the `yield` keyword, instead of `return` (`yield` makes a function a generator)\n",
    "* generator functions return iterators"
   ]
  },
  {
   "cell_type": "code",
   "execution_count": null,
   "metadata": {
    "slideshow": {
     "slide_type": "slide"
    }
   },
   "outputs": [],
   "source": [
    "def repeat_gen(value, limit):\n",
    "    for i in range(limit):\n",
    "        yield value\n",
    "    \n",
    "repeat_gen_obj = repeat_gen(\"olá\", 5)\n",
    "print(repeat_gen_obj)\n",
    "for item in repeat_gen_obj: \n",
    "    print(item) \n",
    "    \n",
    "\n",
    "for x in repeat_gen_obj:\n",
    "    print(\"x =\", x)\n",
    "\n",
    "#repeat_gen_obj = repeat_gen(\"olá\", 5)\n",
    "#print(repeat_gen_obj)#next(gen_ob)\n",
    "#print(repeat_gen_obj)\n",
    "#print(hasattr(repeat_gen_obj, '__next__'))\n",
    "#print(hasattr(repeat_gen_obj, '__iter__'))  "
   ]
  },
  {
   "cell_type": "code",
   "execution_count": null,
   "metadata": {
    "scrolled": true,
    "slideshow": {
     "slide_type": "slide"
    }
   },
   "outputs": [],
   "source": [
    "# But can you nest them?\n",
    "\n",
    "\n",
    "for x in repeat_gen(\"hi\", 5):\n",
    "    print(\"x =\", x)\n",
    "    for z in repeat_gen(\"hello\", 2):\n",
    "        print(\"  z =\", z )\n",
    "\n",
    "print(repeat_gen)\n",
    "print(repeat_gen(\"hi\", 5))"
   ]
  },
  {
   "cell_type": "markdown",
   "metadata": {},
   "source": [
    "### Behind the scenes\n",
    "\n",
    "* executing generator function (with `yield`) creates generator object\n",
    "* generator object is an iterator\n",
    "* generator object saves state at each call of `yield`"
   ]
  },
  {
   "cell_type": "markdown",
   "metadata": {
    "slideshow": {
     "slide_type": "slide"
    }
   },
   "source": [
    "### Exercise: How could we make a fibonacci generator?\n",
    "\n",
    "Considering what we've seen about generator functions, how could we make a generator function for fibonacii numbers? \n",
    "\n",
    "Based on the example above, implement a generator that would return the first n fibonacci numbers."
   ]
  },
  {
   "cell_type": "code",
   "execution_count": null,
   "metadata": {
    "slideshow": {
     "slide_type": "slide"
    }
   },
   "outputs": [],
   "source": [
    "def fib_gen(limit):\n",
    "    cur_fib = 0\n",
    "    next_fib = 1\n",
    "    yield next_fib\n",
    "    count = 1\n",
    "    while count < limit:\n",
    "        cur_fib, next_fib = next_fib, cur_fib + next_fib\n",
    "        yield next_fib\n",
    "        count += 1\n",
    "        \n",
    "for x in fib_gen(6):\n",
    "    print(x)"
   ]
  },
  {
   "cell_type": "markdown",
   "metadata": {
    "slideshow": {
     "slide_type": "slide"
    }
   },
   "source": [
    "## Resources\n",
    "\n",
    "* [Python Tutorial - iterators](https://docs.python.org/2.7/tutorial/classes.html#iterators)\n",
    "* [Python Tutorial - generators](https://docs.python.org/2.7/tutorial/classes.html#generators)\n",
    "* [Python Tutorial - generator expressions](https://docs.python.org/2.7/tutorial/classes.html#generator-expressions)\n",
    "* [Iterator types documentation](https://docs.python.org/dev/library/stdtypes.html#iterator-types)\n",
    "* [Iterators, Functional Programming HOWTO](https://docs.python.org/dev/howto/functional.html#iterators)\n",
    "* [Iterations of Evolution: The Unauthorized Biography of the For-Loop](https://www.youtube.com/watch?v=2AXuhgid7E4) - Dave Beazley, PyCon Pakistan 2017"
   ]
  },
  {
   "cell_type": "markdown",
   "metadata": {},
   "source": [
    "## Thanks\n",
    "\n",
    "### Final Notes\n",
    "\n",
    "\n",
    "This notebook - https://github.com/nceder/exploring_python\n",
    "\n",
    "Videos also archived at https://bit.ly/exploring-ceder\n",
    "\n",
    "*The Quick Python Book*, 3rd ed, (contact me for a code) - http://bit.ly/quick-python\n",
    "\n",
    "Me - https://naomiceder.tech, @naomiceder\n",
    "\n",
    "PyCon 2020 Online! - https://us.pycon.org/2020/online/ \n",
    "\n",
    "Pycon 2020 Online YouTube channel - https://www.youtube.com/channel/UCMjMBMGt0WJQLeluw6qNJuA"
   ]
  },
  {
   "cell_type": "code",
   "execution_count": null,
   "metadata": {
    "slideshow": {
     "slide_type": "skip"
    }
   },
   "outputs": [],
   "source": [
    "class FibIter:\n",
    "    def __init__(self, count):\n",
    "        self._a, self._b = 0, 1\n",
    "        self._count = count\n",
    "\n",
    "    def __next__(self):\n",
    "        if self._count <= 0:\n",
    "            raise StopIteration\n",
    "\n",
    "        self._count = self._count - 1\n",
    "        self._a, self._b = self._b, self._a + self._b\n",
    "        return self._a\n",
    "\n",
    "    def __iter__(self):\n",
    "        return self\n",
    "\n",
    "\n",
    "fib6 = FibIter(6)\n",
    "for fib in fib6:\n",
    "    print(fib)"
   ]
  },
  {
   "cell_type": "code",
   "execution_count": null,
   "metadata": {
    "slideshow": {
     "slide_type": "skip"
    }
   },
   "outputs": [],
   "source": [
    "def fib_gen_while(value):\n",
    "    a, b = 0, 1\n",
    "    while value > 0:\n",
    "        a, b = b, a + b\n",
    "        value = value - 1\n",
    "        yield a\n",
    "\n",
    "def fib_gen_for(value):\n",
    "    a, b = 0, 1\n",
    "    for x in range(value):\n",
    "        a, b = b, a + b\n",
    "        yield a\n",
    "\n",
    "def test_for():\n",
    "    for fib in fib_gen_for(10):\n",
    "        print(fib)\n",
    "        \n",
    "def test_while():\n",
    "    for fib in fib_gen_while(10):\n",
    "        print(fib)\n",
    "        \n",
    "%timeit test_for\n",
    "\n",
    "%timeit test_while"
   ]
  },
  {
   "cell_type": "code",
   "execution_count": null,
   "metadata": {},
   "outputs": [],
   "source": []
  }
 ],
 "metadata": {
  "kernelspec": {
   "display_name": "Python 3",
   "language": "python",
   "name": "python3"
  },
  "language_info": {
   "codemirror_mode": {
    "name": "ipython",
    "version": 3
   },
   "file_extension": ".py",
   "mimetype": "text/x-python",
   "name": "python",
   "nbconvert_exporter": "python",
   "pygments_lexer": "ipython3",
   "version": "3.6.4"
  },
  "livereveal": {
   "scroll": true,
   "start_slideshow_at": "selected",
   "theme": "white",
   "transition": "none"
  },
  "toc": {
   "nav_menu": {},
   "number_sections": false,
   "sideBar": true,
   "skip_h1_title": false,
   "toc_cell": false,
   "toc_position": {},
   "toc_section_display": "block",
   "toc_window_display": false
  }
 },
 "nbformat": 4,
 "nbformat_minor": 2
}
