{
 "cells": [
  {
   "cell_type": "markdown",
   "metadata": {
    "slideshow": {
     "slide_type": "slide"
    }
   },
   "source": [
    "#   Objects, Part 2...\n",
    "## Objects and Classes in Python\n",
    "\n",
    "### Naomi Ceder\n",
    "#### 2020-005-01 2 PM CDT, via https://www.twitch.tv/nceder/\n",
    "\n",
    "**https://naomiceder.tech, @naomiceder**\n"
   ]
  },
  {
   "cell_type": "markdown",
   "metadata": {
    "slideshow": {
     "slide_type": "slide"
    }
   },
   "source": [
    "## Before we start \n",
    "\n",
    "This notebook can (will) be found at https://github.com/nceder/exploring_python\n",
    "\n",
    "*The Quick Python Book*, 3rd ed (contact me for a code) - http://bit.ly/quick-python\n",
    "\n",
    "PyCon 2020 Online! - https://us.pycon.org/2020/online/ \n",
    "\n",
    "Pycon 2020 Online YouTube channel - https://www.youtube.com/channel/UCMjMBMGt0WJQLeluw6qNJuA"
   ]
  },
  {
   "cell_type": "markdown",
   "metadata": {
    "slideshow": {
     "slide_type": "slide"
    }
   },
   "source": [
    "### A note about Python shells\n",
    "\n",
    "We'll be using this notebook to create cells that will connect to a session of the Python interpreter. This kind of session is often called a REPL  (read-eval-print-loop). It reads what you type, it evaluates it, it prints the result and repeats until you stop it. \n",
    "\n",
    "Other ways of having a Python REPL (what I, as an old-timer call a \"shell\") are:\n",
    "* running Python at the commandline\n",
    "* using ipython\n",
    "* using the shell window in IDLE\n",
    "* using the shell/command window in many IDE's\n",
    "\n",
    "I'm using Jupyter so that I can package a little bit of text more easily. \n",
    "\n",
    "**If you want to play along (please do), you can use whatever works for you.**\n"
   ]
  },
  {
   "cell_type": "markdown",
   "metadata": {
    "slideshow": {
     "slide_type": "slide"
    }
   },
   "source": [
    "### What's good about using the shell\n",
    "\n",
    "Using a REPL for Python has always been popular and it's useful for:\n",
    "* exploring simple examples, learning how something works (dir() and help())\n",
    "* testing an idea or syntax\n",
    "\n"
   ]
  },
  {
   "cell_type": "markdown",
   "metadata": {
    "slideshow": {
     "slide_type": "slide"
    }
   },
   "source": [
    "### What's not so good about the shell\n",
    "\n",
    "On the other hand, there are some things that a REPL is not so good for:\n",
    "\n",
    "* writing a connected program\n",
    "* keeping the state of objects clear\n",
    "* debugging, testing, version control\n"
   ]
  },
  {
   "cell_type": "markdown",
   "metadata": {
    "slideshow": {
     "slide_type": "slide"
    }
   },
   "source": [
    "### What's in a class? What's in an instance?\n",
    "\n",
    "#### Recap\n",
    "* instances are objects and \"contain\" the data, attached to `self`\n",
    "* classes are objects and \"contain\" the methods"
   ]
  },
  {
   "cell_type": "code",
   "execution_count": null,
   "metadata": {
    "slideshow": {
     "slide_type": "slide"
    }
   },
   "outputs": [],
   "source": [
    "class OldDuck:\n",
    "    def __init__(self, name=\"a duck\", sound=\"quack\"):\n",
    "        self.name = name\n",
    "        self.sound = sound \n",
    "    \n",
    "    def hello(self):\n",
    "        print(f\"{self.sound}! I'm {self.name}\")\n",
    "old_donald = OldDuck(\"donald\")\n",
    "old_donald.hello()"
   ]
  },
  {
   "cell_type": "markdown",
   "metadata": {},
   "source": [
    "### dir() vs __dict__\n",
    "\n",
    "* dir() shows inherited attributes\n",
    "* `__dict__` shows object's namespace dict\n",
    "* for classes `__dict__` is a `mappingproxy` (subclass of dict) that can't be written"
   ]
  },
  {
   "cell_type": "code",
   "execution_count": null,
   "metadata": {
    "scrolled": true
   },
   "outputs": [],
   "source": [
    "OldDuck.__dict__"
   ]
  },
  {
   "cell_type": "code",
   "execution_count": null,
   "metadata": {},
   "outputs": [],
   "source": [
    "old_donald.__dict__"
   ]
  },
  {
   "cell_type": "code",
   "execution_count": null,
   "metadata": {},
   "outputs": [],
   "source": [
    "dir(old_donald)"
   ]
  },
  {
   "cell_type": "markdown",
   "metadata": {
    "slideshow": {
     "slide_type": "slide"
    }
   },
   "source": [
    "### What happens if we just put data in the class?\n",
    "\n",
    "Yes, that would be a class variable... \n"
   ]
  },
  {
   "cell_type": "code",
   "execution_count": null,
   "metadata": {
    "slideshow": {
     "slide_type": "slide"
    }
   },
   "outputs": [],
   "source": [
    "class NewDuck:\n",
    "    \n",
    "    # not attached to a self... \n",
    "    sound = \"quack\" \n",
    "    \n",
    "    def __init__(self, name=\"a duck\"):\n",
    "        self.name = name\n",
    "    \n",
    "    def hello(self):\n",
    "        print(f\"{self.sound}! I'm {self.name}\")"
   ]
  },
  {
   "cell_type": "code",
   "execution_count": null,
   "metadata": {},
   "outputs": [],
   "source": [
    "NewDuck.__dict__"
   ]
  },
  {
   "cell_type": "code",
   "execution_count": null,
   "metadata": {},
   "outputs": [],
   "source": [
    "donald.__dict__"
   ]
  },
  {
   "cell_type": "code",
   "execution_count": null,
   "metadata": {
    "slideshow": {
     "slide_type": "slide"
    }
   },
   "outputs": [],
   "source": [
    "donald = NewDuck(\"donald\")\n",
    "donald.hello()"
   ]
  },
  {
   "cell_type": "markdown",
   "metadata": {
    "slideshow": {
     "slide_type": "slide"
    }
   },
   "source": [
    "### So what is scope?\n",
    "\n",
    "* \"scope\" is the word for where variables are \n",
    "* in general, information can flow into contained objects\n",
    "* but information CAN'T flow outward... \n",
    "\n",
    "**So...** - local, enclosing, global, builtin\n",
    "\n",
    "**but** how does the example above work?"
   ]
  },
  {
   "cell_type": "code",
   "execution_count": null,
   "metadata": {},
   "outputs": [],
   "source": [
    "class NewDuck:\n",
    "    \n",
    "    # not attached to a self... \n",
    "    sound = \"quack\" \n",
    "    \n",
    "    def __init__(self, name=\"a duck\"):\n",
    "        self.name = name\n",
    "    \n",
    "    def hello(self):\n",
    "        # how should we get the sound?\n",
    "        print(f\"{self.sound}! I'm {self.name}\")\n",
    "        \n",
    "donald = NewDuck(\"donald\")\n",
    "donald.hello()"
   ]
  },
  {
   "cell_type": "code",
   "execution_count": null,
   "metadata": {
    "scrolled": false
   },
   "outputs": [],
   "source": [
    "NewDuck.__dict__"
   ]
  },
  {
   "cell_type": "markdown",
   "metadata": {},
   "source": [
    "#### But what if we go in the other direction?\n",
    "\n",
    "Since the sound we're accessing must the class's (not the instance's) sound attribute, let's try to:\n",
    "\n",
    "1. use the class's sound directly\n",
    "2. change "
   ]
  },
  {
   "cell_type": "code",
   "execution_count": null,
   "metadata": {},
   "outputs": [],
   "source": [
    "class NewDuck:\n",
    "    \n",
    "    sound = \"quack\" \n",
    "    \n",
    "    def __init__(self, name=\"a duck\"):\n",
    "        self.name = name\n",
    "    \n",
    "    def hello(self):\n",
    "        # how should we get the sound?\n",
    "        print(f\"{self.sound}! I'm {self.name}\")\n",
    "        \n",
    "    def change_sound(self, new_sound):\n",
    "        # what do we need here?\n",
    "        sound = new_sound\n",
    "        \n",
    "donald = NewDuck(\"donald\")\n",
    "\n",
    "donald.hello()\n",
    "#donald.change_sound(\"bark\")\n",
    "#NewDuck.sound = \"honk\"\n",
    "#donald.hello()\n"
   ]
  },
  {
   "cell_type": "markdown",
   "metadata": {
    "slideshow": {
     "slide_type": "slide"
    }
   },
   "source": [
    "### Instance data vs. class data - recap\n",
    "\n",
    "* instance data is attached to `self`\n",
    "* class data is just in class\n",
    "* scope of instance data - can be accessed if you have self\n",
    "* scope of class data - can be fully accessed through the class, but can only be seen in methods methods"
   ]
  },
  {
   "cell_type": "markdown",
   "metadata": {
    "slideshow": {
     "slide_type": "slide"
    }
   },
   "source": [
    "### Static methods\n",
    "\n",
    "* Don't get self\n",
    "* belong to the class but don't \"know\" about the class\n",
    "* but they need to be called via the class\n",
    "* good for more tightly connecting utility functions to a a class\n",
    "* **a class with only static methods is a MODULE!! (or Java)**"
   ]
  },
  {
   "cell_type": "code",
   "execution_count": null,
   "metadata": {},
   "outputs": [],
   "source": [
    "class NewDuck:\n",
    "    \n",
    "    sound = \"quack\" \n",
    "    \n",
    "    def __init__(self, name=\"a duck\"):\n",
    "        self.name = name\n",
    "    \n",
    "    def hello(self):\n",
    "        print(f\"{self.sound}! I'm {self.name}\")\n",
    "        \n",
    "    @staticmethod\n",
    "    def amplify():\n",
    "        # is there any way that this method can access sound?\n",
    "        return self.sound\n",
    "        \n",
    "donald = NewDuck(\"donald\")\n",
    "donald.amplify()\n",
    "#donald.hello()"
   ]
  },
  {
   "cell_type": "markdown",
   "metadata": {
    "slideshow": {
     "slide_type": "slide"
    }
   },
   "source": [
    "### Class methods\n",
    "\n",
    "* get the class (as `cls`) instead of self\n",
    "* also called via the class\n",
    "* operate on class variables \n",
    "* also can see other class methods and static methods\n",
    "* \"hiding\" a method via `__` as a prefix"
   ]
  },
  {
   "cell_type": "code",
   "execution_count": null,
   "metadata": {},
   "outputs": [],
   "source": [
    "class NewDuck:\n",
    "    \n",
    "    sound = \"quack\" \n",
    "    \n",
    "    def __init__(self, name=\"a duck\"):\n",
    "        self.name = name\n",
    "    \n",
    "    def hello(self):\n",
    "        print(f\"{self.get_loud_sound()}! I'm {self.name}\")\n",
    "        \n",
    "    # gets the class as cls\n",
    "    @classmethod\n",
    "    def get_sound(cls):\n",
    "        # how do we access the class attributes?\n",
    "        return sound\n",
    "\n",
    "    @classmethod\n",
    "    def get_loud_sound(cls):\n",
    "        # how do we access the class methods and data?\n",
    "        return amplify(sound)\n",
    "\n",
    "    # how could we \"hide\" this method?\n",
    "    @staticmethod\n",
    "    def amplify(a_sound):\n",
    "        return a_sound.upper()\n",
    "        \n",
    "\n",
    "donald = NewDuck(\"donald\")\n",
    "donald.hello()\n",
    "NewDuck.get_sound()\n",
    "#NewDuck.__amplify(\"hello\")"
   ]
  },
  {
   "cell_type": "code",
   "execution_count": null,
   "metadata": {},
   "outputs": [],
   "source": [
    "NewDuck.__dict__"
   ]
  },
  {
   "cell_type": "markdown",
   "metadata": {
    "slideshow": {
     "slide_type": "slide"
    }
   },
   "source": [
    "### Properties\n",
    "\n",
    "* Sometimes it's nice to control what gets into and out of a class\n",
    "* Some languages, e.g., Java, use getters and setters\n",
    "* in Python this is considered awkward and unPythonic\n",
    "* so we have properties"
   ]
  },
  {
   "cell_type": "code",
   "execution_count": null,
   "metadata": {
    "slideshow": {
     "slide_type": "slide"
    }
   },
   "outputs": [],
   "source": [
    "class DeadParrot:\n",
    "    \n",
    "    def __init__(self, name=\"parrot\"):\n",
    "        self.name = name\n",
    "        self._is_dead = True\n",
    "        self._volts = 0\n",
    "        \n",
    "    def get_volts(self):\n",
    "        return self._volts\n",
    "    \n",
    "    def set_volts(self, volts):\n",
    "        if volts < 0:\n",
    "            raise ValueError(\"volts must be positive\")\n",
    "        self._volts = volts\n",
    "        \n",
    "    #volts = property(get_volts, set_volts)\n",
    "    \n",
    "polly = DeadParrot(\"Polly\")\n",
    "\n",
    "polly.set_volts(-1000000)\n",
    "print(polly.get_volts())"
   ]
  },
  {
   "cell_type": "code",
   "execution_count": null,
   "metadata": {
    "slideshow": {
     "slide_type": "slide"
    }
   },
   "outputs": [],
   "source": [
    "polly.volts = -1000000\n",
    "print(polly.volts)"
   ]
  },
  {
   "cell_type": "code",
   "execution_count": null,
   "metadata": {},
   "outputs": [],
   "source": [
    "polly.__dict__"
   ]
  },
  {
   "cell_type": "code",
   "execution_count": null,
   "metadata": {
    "slideshow": {
     "slide_type": "slide"
    }
   },
   "outputs": [],
   "source": [
    "class DeadParrot:\n",
    "    \n",
    "    def __init__(self, name=\"parrot\"):\n",
    "        self.name = name\n",
    "        self._is_dead = True\n",
    "        self._volts = 0\n",
    "        \n",
    "    def get_volts(self):\n",
    "        return self._volts\n",
    "    \n",
    "    def set_volts(self, volts):\n",
    "        self._volts = volts\n",
    "        \n",
    "    volts = property(get_volts, set_volts)\n",
    "    \n",
    "polly = DeadParrot(\"Polly\")\n",
    "\n",
    "polly.set_volts(1000000)\n",
    "print(polly.get_volts())"
   ]
  },
  {
   "cell_type": "code",
   "execution_count": null,
   "metadata": {},
   "outputs": [],
   "source": [
    "polly.__dict__"
   ]
  },
  {
   "cell_type": "code",
   "execution_count": null,
   "metadata": {},
   "outputs": [],
   "source": [
    "DeadParrot.__dict__"
   ]
  },
  {
   "cell_type": "code",
   "execution_count": null,
   "metadata": {
    "slideshow": {
     "slide_type": "slide"
    }
   },
   "outputs": [],
   "source": [
    "class DeadParrot:\n",
    "    \n",
    "    def __init__(self, name=\"parrot\"):\n",
    "        self.name = name\n",
    "        self._is_dead = True\n",
    "        self._volts = 0\n",
    "        \n",
    "    @property\n",
    "    def volts(self):\n",
    "        return self._volts\n",
    "    \n",
    "    @volts.setter\n",
    "    def volts(self, volts):\n",
    "        self._volts = volts\n",
    "        \n",
    "    \n",
    "polly = DeadParrot(\"Polly\")\n",
    "polly.volts = 1000000\n",
    "print(polly.volts)\n"
   ]
  },
  {
   "cell_type": "code",
   "execution_count": null,
   "metadata": {},
   "outputs": [],
   "source": [
    "DeadParrot.__dict__"
   ]
  },
  {
   "cell_type": "code",
   "execution_count": null,
   "metadata": {
    "slideshow": {
     "slide_type": "slide"
    }
   },
   "outputs": [],
   "source": []
  },
  {
   "cell_type": "markdown",
   "metadata": {
    "slideshow": {
     "slide_type": "slide"
    }
   },
   "source": [
    "## Questions?\n",
    "\n"
   ]
  },
  {
   "cell_type": "markdown",
   "metadata": {
    "slideshow": {
     "slide_type": "slide"
    }
   },
   "source": [
    "## Thanks\n",
    "\n",
    "### Final Notes\n",
    "\n",
    "[Feedback and suggestions](https://docs.google.com/forms/d/e/1FAIpQLScO28mEaxsHZKFDsPYoctjCMjndgVw2lUNFKvlrqodNNN4uCw/viewform?usp=pp_url&entry.1081536003=Objects+All+the+Way+Down+-+Apr+24,+2020)\n",
    "\n",
    "This notebook - https://github.com/nceder/exploring_python\n",
    "\n",
    "*The Quick Python Book*, 3rd ed, (contact me for a code) - http://bit.ly/quick-python\n",
    "\n",
    "Me - https://naomiceder.tech, @naomiceder\n",
    "\n",
    "PyCon 2020 Online! - https://us.pycon.org/2020/online/ \n",
    "\n",
    "Pycon 2020 Online YouTube channel - https://www.youtube.com/channel/UCMjMBMGt0WJQLeluw6qNJuA"
   ]
  },
  {
   "cell_type": "code",
   "execution_count": null,
   "metadata": {},
   "outputs": [],
   "source": []
  }
 ],
 "metadata": {
  "kernelspec": {
   "display_name": "Python 3",
   "language": "python",
   "name": "python3"
  },
  "language_info": {
   "codemirror_mode": {
    "name": "ipython",
    "version": 3
   },
   "file_extension": ".py",
   "mimetype": "text/x-python",
   "name": "python",
   "nbconvert_exporter": "python",
   "pygments_lexer": "ipython3",
   "version": "3.6.4"
  },
  "livereveal": {
   "scroll": true,
   "start_slideshow_at": "selected",
   "theme": "white",
   "transition": "none"
  }
 },
 "nbformat": 4,
 "nbformat_minor": 2
}
