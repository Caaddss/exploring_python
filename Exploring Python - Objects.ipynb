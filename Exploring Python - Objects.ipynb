{
 "cells": [
  {
   "cell_type": "markdown",
   "metadata": {
    "slideshow": {
     "slide_type": "slide"
    }
   },
   "source": [
    "#   Objects all the way down...\n",
    "## Objects and Classes in Python\n",
    "\n",
    "### Naomi Ceder\n",
    "#### 2020-04-24 2 PM CDT, via https://www.twitch.tv/nceder/\n",
    "\n",
    "**https://naomiceder.tech, @naomiceder**\n"
   ]
  },
  {
   "cell_type": "markdown",
   "metadata": {
    "slideshow": {
     "slide_type": "slide"
    }
   },
   "source": [
    "## Before we start \n",
    "\n",
    "This notebook can (will) be found at https://github.com/nceder/exploring_python\n",
    "\n",
    "*The Quick Python Book*, 3rd ed, ebook FREE until April 30th! - http://bit.ly/quick-python\n",
    "\n",
    "PyCon 2020 Online! - https://www.youtube.com/channel/UCMjMBMGt0WJQLeluw6qNJuA\n"
   ]
  },
  {
   "cell_type": "markdown",
   "metadata": {
    "slideshow": {
     "slide_type": "slide"
    }
   },
   "source": [
    "### A note about Python shells\n",
    "\n",
    "We'll be using this notebook to create cells that will connect to a session of the Python interpreter. This kind of session is often called a REPL  (read-eval-print-loop). It reads what you type, it evaluates it, it prints the result and repeats until you stop it. \n",
    "\n",
    "Other ways of having a Python REPL (what I, as an old-timer call a \"shell\") are:\n",
    "* running Python at the commandline\n",
    "* using ipython\n",
    "* using the shell window in IDLE\n",
    "* using the shell/command window in many IDE's\n",
    "\n",
    "I'm using Jupyter so that I can package a little bit of text more easily. \n",
    "\n",
    "**If you want to play along (please do), you can use whatever works for you.**\n"
   ]
  },
  {
   "cell_type": "markdown",
   "metadata": {
    "slideshow": {
     "slide_type": "slide"
    }
   },
   "source": [
    "### What's good about using the shell\n",
    "\n",
    "Using a REPL for Python has always been popular and it's useful for:\n",
    "* exploring simple examples, learning how something works (dir() and help())\n",
    "* testing an idea or syntax\n",
    "\n"
   ]
  },
  {
   "cell_type": "markdown",
   "metadata": {
    "slideshow": {
     "slide_type": "slide"
    }
   },
   "source": [
    "### What's not so good about the shell\n",
    "\n",
    "On the other hand, there are some things that a REPL is not so good for:\n",
    "\n",
    "* writing a connected program\n",
    "* keeping the state of objects clear\n",
    "* debugging, testing, version control\n"
   ]
  },
  {
   "cell_type": "markdown",
   "metadata": {
    "slideshow": {
     "slide_type": "slide"
    }
   },
   "source": [
    "### Everything is an object\n",
    "\n",
    "* What's a object?\n",
    "* How do they get created?\n",
    "* Where do they go?\n",
    "\n",
    "Or... what is **NOT** an object in Python?"
   ]
  },
  {
   "cell_type": "code",
   "execution_count": 36,
   "metadata": {
    "slideshow": {
     "slide_type": "slide"
    }
   },
   "outputs": [
    {
     "data": {
      "text/plain": [
       "['__add__',\n",
       " '__class__',\n",
       " '__contains__',\n",
       " '__delattr__',\n",
       " '__dir__',\n",
       " '__doc__',\n",
       " '__eq__',\n",
       " '__format__',\n",
       " '__ge__',\n",
       " '__getattribute__',\n",
       " '__getitem__',\n",
       " '__getnewargs__',\n",
       " '__gt__',\n",
       " '__hash__',\n",
       " '__init__',\n",
       " '__init_subclass__',\n",
       " '__iter__',\n",
       " '__le__',\n",
       " '__len__',\n",
       " '__lt__',\n",
       " '__mod__',\n",
       " '__mul__',\n",
       " '__ne__',\n",
       " '__new__',\n",
       " '__reduce__',\n",
       " '__reduce_ex__',\n",
       " '__repr__',\n",
       " '__rmod__',\n",
       " '__rmul__',\n",
       " '__setattr__',\n",
       " '__sizeof__',\n",
       " '__str__',\n",
       " '__subclasshook__',\n",
       " 'capitalize',\n",
       " 'casefold',\n",
       " 'center',\n",
       " 'count',\n",
       " 'encode',\n",
       " 'endswith',\n",
       " 'expandtabs',\n",
       " 'find',\n",
       " 'format',\n",
       " 'format_map',\n",
       " 'index',\n",
       " 'isalnum',\n",
       " 'isalpha',\n",
       " 'isdecimal',\n",
       " 'isdigit',\n",
       " 'isidentifier',\n",
       " 'islower',\n",
       " 'isnumeric',\n",
       " 'isprintable',\n",
       " 'isspace',\n",
       " 'istitle',\n",
       " 'isupper',\n",
       " 'join',\n",
       " 'ljust',\n",
       " 'lower',\n",
       " 'lstrip',\n",
       " 'maketrans',\n",
       " 'partition',\n",
       " 'replace',\n",
       " 'rfind',\n",
       " 'rindex',\n",
       " 'rjust',\n",
       " 'rpartition',\n",
       " 'rsplit',\n",
       " 'rstrip',\n",
       " 'split',\n",
       " 'splitlines',\n",
       " 'startswith',\n",
       " 'strip',\n",
       " 'swapcase',\n",
       " 'title',\n",
       " 'translate',\n",
       " 'upper',\n",
       " 'zfill']"
      ]
     },
     "execution_count": 36,
     "metadata": {},
     "output_type": "execute_result"
    }
   ],
   "source": [
    "dir(\"hello\")\n",
    "\n",
    "\n"
   ]
  },
  {
   "cell_type": "markdown",
   "metadata": {
    "slideshow": {
     "slide_type": "slide"
    }
   },
   "source": [
    "### Duck typing\n",
    "\n",
    "If it walks like a duck, and quacks like a duck, it's a duck.\n",
    "\n",
    "E.g. iteration"
   ]
  },
  {
   "cell_type": "code",
   "execution_count": 39,
   "metadata": {
    "slideshow": {
     "slide_type": "slide"
    }
   },
   "outputs": [
    {
     "name": "stdout",
     "output_type": "stream",
     "text": [
      "c\n",
      "b\n",
      "a\n"
     ]
    }
   ],
   "source": [
    "a1 = \"abc\"\n",
    "a2 = ['a', 'b', 'c']\n",
    "a3 = set(['a', 'b', 'c'])\n",
    "\n",
    "for item in a3:\n",
    "    print(item)"
   ]
  },
  {
   "cell_type": "markdown",
   "metadata": {
    "slideshow": {
     "slide_type": "slide"
    }
   },
   "source": [
    "### Creating a class\n",
    "\n",
    "* class keyword\n",
    "* class name\n",
    "* base class(es) (optional)\n",
    "* body"
   ]
  },
  {
   "cell_type": "code",
   "execution_count": 59,
   "metadata": {
    "slideshow": {
     "slide_type": "slide"
    }
   },
   "outputs": [
    {
     "name": "stdout",
     "output_type": "stream",
     "text": [
      "goodbye from a duck named donald\n",
      "goodbye from a duck named donald\n",
      "goodbye from a duck named donald\n"
     ]
    }
   ],
   "source": [
    "class Duck:\n",
    "    def __init__(self, name=\"a duck\", sound=\"\"):\n",
    "        self.name = name\n",
    "        self.sound = sound \n",
    "    \n",
    "    def hello(self):\n",
    "        print(f\"hello I'm {self.name}\")\n",
    "        \n",
    "    def __str__(self):\n",
    "        return f\"a duck named {self.name}\"\n",
    "    \n",
    "def goodbye(thing):\n",
    "    print(f\"goodbye from {thing}\")\n",
    "\n",
    "donald = Duck(\"donald\")\n",
    "#donald.hello()\n",
    "goodbye(donald)\n",
    "\n",
    "Duck.goodbye = goodbye\n",
    "#dir(donald)\n",
    "donald.goodbye()\n",
    "donald.goodbye2 = goodbye\n",
    "donald.goodbye2(donald)\n",
    "\n"
   ]
  },
  {
   "cell_type": "markdown",
   "metadata": {
    "slideshow": {
     "slide_type": "slide"
    }
   },
   "source": [
    "### Instance methods\n",
    "\n",
    "* The \"normal\" methods\n",
    "* Defined with `self`, called attached to instance\n",
    "* These are also called \"bound\" methods\n",
    "* also special methods like `__init__`, `__str__`, `__repr__`"
   ]
  },
  {
   "cell_type": "code",
   "execution_count": 63,
   "metadata": {
    "slideshow": {
     "slide_type": "slide"
    }
   },
   "outputs": [
    {
     "data": {
      "text/plain": [
       "['__class__',\n",
       " '__delattr__',\n",
       " '__dict__',\n",
       " '__dir__',\n",
       " '__doc__',\n",
       " '__eq__',\n",
       " '__format__',\n",
       " '__ge__',\n",
       " '__getattribute__',\n",
       " '__gt__',\n",
       " '__hash__',\n",
       " '__init__',\n",
       " '__init_subclass__',\n",
       " '__le__',\n",
       " '__lt__',\n",
       " '__module__',\n",
       " '__ne__',\n",
       " '__new__',\n",
       " '__reduce__',\n",
       " '__reduce_ex__',\n",
       " '__repr__',\n",
       " '__setattr__',\n",
       " '__sizeof__',\n",
       " '__str__',\n",
       " '__subclasshook__',\n",
       " '__weakref__',\n",
       " 'goodbye',\n",
       " 'hello']"
      ]
     },
     "execution_count": 63,
     "metadata": {},
     "output_type": "execute_result"
    }
   ],
   "source": [
    "donald.goodbye()"
   ]
  },
  {
   "cell_type": "markdown",
   "metadata": {
    "slideshow": {
     "slide_type": "slide"
    }
   },
   "source": [
    "### Instance data vs. class data\n",
    "\n",
    "* instance data is attached to `self`\n",
    "* class data is just in class\n",
    "* scope of instance data\n",
    "* scope of class data"
   ]
  },
  {
   "cell_type": "code",
   "execution_count": null,
   "metadata": {
    "slideshow": {
     "slide_type": "slide"
    }
   },
   "outputs": [],
   "source": []
  },
  {
   "cell_type": "markdown",
   "metadata": {
    "slideshow": {
     "slide_type": "slide"
    }
   },
   "source": [
    "### Create a class from spare parts\n",
    "\n",
    "* `type()` can do more than you think\n",
    "* `type(name, bases, namespace_dict)`\n"
   ]
  },
  {
   "cell_type": "code",
   "execution_count": 69,
   "metadata": {
    "slideshow": {
     "slide_type": "slide"
    }
   },
   "outputs": [
    {
     "name": "stdout",
     "output_type": "stream",
     "text": [
      "<class 'type'>\n",
      "<class '__main__.Scratch'>\n"
     ]
    }
   ],
   "source": [
    "daisy = type(donald)()\n",
    "\n",
    "def __init__funct(thing, name):\n",
    "    thing.name = name\n",
    "    \n",
    "def __str__funct(thing):\n",
    "    return thing.name\n",
    "\n",
    "namespace = {\"__init__\": __init__funct,\n",
    "            \"__str__\": __str__funct,\n",
    "            \"x\": \"this is x\"}\n",
    "\n",
    "Scratch = type(\"Scratch\", (), namespace)\n",
    "\n",
    "my_scratch = Scratch(\"my scratch\")\n",
    "print(type(Scratch))\n",
    "print(type(my_scratch))\n"
   ]
  },
  {
   "cell_type": "markdown",
   "metadata": {
    "slideshow": {
     "slide_type": "slide"
    }
   },
   "source": [
    "## Questions?\n",
    "\n"
   ]
  },
  {
   "cell_type": "markdown",
   "metadata": {
    "slideshow": {
     "slide_type": "slide"
    }
   },
   "source": [
    "## Thanks\n",
    "\n",
    "### Final Notes\n",
    "\n",
    "[Feedback and suggestions](https://docs.google.com/forms/d/e/1FAIpQLScO28mEaxsHZKFDsPYoctjCMjndgVw2lUNFKvlrqodNNN4uCw/viewform?usp=pp_url&entry.1081536003=Objects+All+the+Way+Down+-+Apr+24,+2020)\n",
    "\n",
    "This notebook - https://github.com/nceder/exploring_python\n",
    "\n",
    "*The Quick Python Book*, 3rd ed, ebook FREE until April 30th! - http://bit.ly/quick-python\n",
    "\n",
    "Me - https://naomiceder.tech, @naomiceder\n",
    "\n",
    "PyCon 2020 Online! - https://www.youtube.com/channel/UCMjMBMGt0WJQLeluw6qNJuA"
   ]
  },
  {
   "cell_type": "code",
   "execution_count": null,
   "metadata": {},
   "outputs": [],
   "source": []
  }
 ],
 "metadata": {
  "kernelspec": {
   "display_name": "Python 3",
   "language": "python",
   "name": "python3"
  },
  "language_info": {
   "codemirror_mode": {
    "name": "ipython",
    "version": 3
   },
   "file_extension": ".py",
   "mimetype": "text/x-python",
   "name": "python",
   "nbconvert_exporter": "python",
   "pygments_lexer": "ipython3",
   "version": "3.6.4"
  },
  "livereveal": {
   "scroll": true,
   "start_slideshow_at": "selected",
   "theme": "white",
   "transition": "none"
  }
 },
 "nbformat": 4,
 "nbformat_minor": 2
}
