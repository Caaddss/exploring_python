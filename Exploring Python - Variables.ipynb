{
 "cells": [
  {
   "cell_type": "markdown",
   "metadata": {
    "slideshow": {
     "slide_type": "slide"
    }
   },
   "source": [
    "# What is a variable in Python?\n",
    "\n",
    "### Naomi Ceder\n",
    "#### 2020-03-10\n",
    "\n",
    "**https://naomiceder.tech, @naomiceder**\n"
   ]
  },
  {
   "cell_type": "markdown",
   "metadata": {
    "slideshow": {
     "slide_type": "slide"
    }
   },
   "source": [
    "## Before we start \n",
    "\n",
    "This notebook - https://github.com/nceder/exploring_python\n",
    "\n",
    "*The Quick Python Book*, 3rd ed, ebook FREE until May 30th! - http://bit.ly/quick-python\n"
   ]
  },
  {
   "cell_type": "markdown",
   "metadata": {
    "slideshow": {
     "slide_type": "slide"
    }
   },
   "source": [
    "### Mental models\n",
    "\n",
    "We'll be talking a lot about “mental models”, so before we get started let me explain what I mean by that phrase. [According to Wikipedia](https://en.wikipedia.org/wiki/Mental_model)\n",
    "\n",
    "“A mental model is **an explanation of** someone's thought process about **how something works in the real world.** It is\n",
    "a representation of the surrounding world, the relationships between its various parts and a person's intuitive perception about his or her own acts and their consequences. Mental models can **help shape behaviour and set an approach to solving problems** (similar to a personal algorithm) and doing tasks.”"
   ]
  },
  {
   "cell_type": "markdown",
   "metadata": {
    "slideshow": {
     "slide_type": "slide"
    }
   },
   "source": [
    "### A mental model for Python variables\n",
    "\n",
    "In this set of slides we’re going to look at a couple of mental models for how Python variables work, then we'll test them a bit to see how well they work, and by the end, we’ll form (or confirm) our mental model for Python variables that will help us use them to solve problems."
   ]
  },
  {
   "cell_type": "markdown",
   "metadata": {
    "slideshow": {
     "slide_type": "skip"
    }
   },
   "source": [
    "### Who should watch this lesson?\n",
    "\n",
    "This lesson is intended help people form a clear and useful mental model of how variables work in Python. To decide if this  will be helpful for you, lets look at a couple of examples in Python"
   ]
  },
  {
   "cell_type": "markdown",
   "metadata": {
    "slideshow": {
     "slide_type": "skip"
    }
   },
   "source": [
    "First of all look at the code below. When this code is run, what will be printed?"
   ]
  },
  {
   "cell_type": "code",
   "execution_count": 1,
   "metadata": {
    "slideshow": {
     "slide_type": "skip"
    }
   },
   "outputs": [
    {
     "name": "stdout",
     "output_type": "stream",
     "text": [
      "2 1\n"
     ]
    }
   ],
   "source": [
    "x = 1\n",
    "z = x\n",
    "x = 2 \n",
    "print(x, z)"
   ]
  },
  {
   "cell_type": "markdown",
   "metadata": {
    "slideshow": {
     "slide_type": "skip"
    }
   },
   "source": [
    "If you didn't expect the output to be `2 1`, then this lesson should help you understand why it was."
   ]
  },
  {
   "cell_type": "markdown",
   "metadata": {
    "slideshow": {
     "slide_type": "skip"
    }
   },
   "source": [
    "Now, let's look a somewhat more complex example. What will the code below print?"
   ]
  },
  {
   "cell_type": "code",
   "execution_count": 2,
   "metadata": {
    "slideshow": {
     "slide_type": "skip"
    }
   },
   "outputs": [
    {
     "name": "stdout",
     "output_type": "stream",
     "text": [
      "[2, 2]\n"
     ]
    }
   ],
   "source": [
    "x = [1, 2]\n",
    "z = x\n",
    "x[0] = 2\n",
    "print(z)"
   ]
  },
  {
   "cell_type": "markdown",
   "metadata": {
    "slideshow": {
     "slide_type": "skip"
    }
   },
   "source": [
    "If you didn't expect the output to be `[2, 2]` then this lesson will help you understand why that was the result.\n",
    "\n",
    "If you were right about what **both** code snippets printed **and** you can explain exactly why that was the case, then this lesson won't have anything new for you. You're welcome to keep watching, of course."
   ]
  },
  {
   "cell_type": "markdown",
   "metadata": {
    "slideshow": {
     "slide_type": "slide"
    }
   },
   "source": [
    "## What is a variable in Python?\n",
    "\n",
    "When we talk about variables in Python we're talking about something like this:"
   ]
  },
  {
   "cell_type": "code",
   "execution_count": 3,
   "metadata": {
    "slideshow": {
     "slide_type": "fragment"
    }
   },
   "outputs": [
    {
     "name": "stdout",
     "output_type": "stream",
     "text": [
      "9\n"
     ]
    }
   ],
   "source": [
    "x = 4\n",
    "y = 5\n",
    "z = x + y\n",
    "print(z)"
   ]
  },
  {
   "cell_type": "markdown",
   "metadata": {
    "slideshow": {
     "slide_type": "fragment"
    }
   },
   "source": [
    "In this example we have three variables: `x`, `y`, and `z`. We set `x` and `y` to initial values and the store the result of adding those values in `z`. "
   ]
  },
  {
   "cell_type": "markdown",
   "metadata": {
    "slideshow": {
     "slide_type": "slide"
    }
   },
   "source": [
    "Variables are essential because we can use them to handle different values as our code runs.\n",
    "\n",
    "But how do variables work? Are variables containers of data? Pointers to an address in memory? Or are they something else?"
   ]
  },
  {
   "cell_type": "markdown",
   "metadata": {
    "slideshow": {
     "slide_type": "slide"
    }
   },
   "source": [
    "### Is it a container?\n",
    "\n",
    "People (particularly in some other languages) talk a lot about variables containing, holding, or storing data. This makes sense, right? If we associate a number, string or some other object with a variable, that data has to go somewhere, right?\n",
    "\n",
    "![](cat_buckets.jpg)"
   ]
  },
  {
   "cell_type": "markdown",
   "metadata": {
    "slideshow": {
     "slide_type": "slide"
    }
   },
   "source": [
    "### Exploring the container model\n",
    "\n",
    "If the bucket model is accurate that  would mean that in our example:\n",
    "\n",
    "    x = 4\n",
    "    y = 5\n",
    "    z = x + y\n",
    "    print(z)\n",
    "    \n",
    "    9\n",
    "\n",
    "the variables `x`, `y`, and `z` would be places in memory where the values 4, 5, and our answer 9 are stored, and the variables themselves are something like addresses or connections to those spaces.  \n",
    "\n",
    "Lets do some simple experiments with Python to see if we can confirm that variables in Python are containers."
   ]
  },
  {
   "cell_type": "markdown",
   "metadata": {
    "slideshow": {
     "slide_type": "slide"
    }
   },
   "source": [
    "#### Experiment 1 - creating and changing\n",
    "\n",
    "Let's start by making some variables and changing them."
   ]
  },
  {
   "cell_type": "code",
   "execution_count": 18,
   "metadata": {
    "slideshow": {
     "slide_type": "fragment"
    }
   },
   "outputs": [],
   "source": [
    "x = 1\n",
    "y = 2\n",
    "z = x"
   ]
  },
  {
   "cell_type": "markdown",
   "metadata": {
    "slideshow": {
     "slide_type": "fragment"
    }
   },
   "source": [
    "If we run the code above, how would you describe the result in terms of the container model?"
   ]
  },
  {
   "cell_type": "markdown",
   "metadata": {
    "slideshow": {
     "slide_type": "slide"
    },
    "tags": [
     "hide_input"
    ]
   },
   "source": [
    "*Well, if variables are containers, or addresses of locations in memory, we would expect that the code above would create three containers (or dedicate 3 locations in memory) and put 1 in the one called `x`, 2 in the one called `y`, and take whatever is in `x` (in this case 1) and put that value in `z` also. *"
   ]
  },
  {
   "cell_type": "markdown",
   "metadata": {
    "slideshow": {
     "slide_type": "slide"
    }
   },
   "source": [
    "The container model would imply that each variable’s value is not connected to any other variable - after all if we give two children identical glasses of milk, it's not the **same** milk in each glass, and if one child drinks her milk, that doesn't empty the other’s glass."
   ]
  },
  {
   "cell_type": "markdown",
   "metadata": {
    "slideshow": {
     "slide_type": "slide"
    }
   },
   "source": [
    "How could we test that assumption?"
   ]
  },
  {
   "cell_type": "markdown",
   "metadata": {
    "slideshow": {
     "slide_type": "slide"
    }
   },
   "source": [
    "*One way we could test this would be to first make sure that our variables contain what they should, and then change one of them and see what happens:*"
   ]
  },
  {
   "cell_type": "code",
   "execution_count": 19,
   "metadata": {
    "slideshow": {
     "slide_type": "slide"
    },
    "tags": [
     "hide_output"
    ]
   },
   "outputs": [
    {
     "name": "stdout",
     "output_type": "stream",
     "text": [
      "x = 1, y = 2, z = 1\n"
     ]
    }
   ],
   "source": [
    "x = 1\n",
    "y = 2\n",
    "z = x\n",
    "print(f\"x = {x}, y = {y}, z = {z}\")"
   ]
  },
  {
   "cell_type": "code",
   "execution_count": 6,
   "metadata": {
    "slideshow": {
     "slide_type": "slide"
    }
   },
   "outputs": [
    {
     "name": "stdout",
     "output_type": "stream",
     "text": [
      "x = 4, y = 2, z = 1\n"
     ]
    }
   ],
   "source": [
    "x = 4\n",
    "print(f\"x = {x}, y = {y}, z = {z}\")"
   ]
  },
  {
   "cell_type": "markdown",
   "metadata": {
    "slideshow": {
     "slide_type": "fragment"
    }
   },
   "source": [
    "Okay, in this test after we said that `z` should have the same contents as `x`, we changed `x` and `z` didn't change. This would support the container model."
   ]
  },
  {
   "cell_type": "markdown",
   "metadata": {
    "slideshow": {
     "slide_type": "slide"
    }
   },
   "source": [
    "Now lets try the same test, but with a different type of variable. Integers are fine, but to be confident we really should use something a bit different. In fact, let's try the same variation with a few different types:"
   ]
  },
  {
   "cell_type": "code",
   "execution_count": 20,
   "metadata": {
    "slideshow": {
     "slide_type": "slide"
    }
   },
   "outputs": [
    {
     "name": "stdout",
     "output_type": "stream",
     "text": [
      "x = hello, y = goodbye, z = hello\n"
     ]
    }
   ],
   "source": [
    "x = \"hello\"\n",
    "y = \"goodbye\"\n",
    "z = x\n",
    "print(f\"x = {x}, y = {y}, z = {z}\")"
   ]
  },
  {
   "cell_type": "code",
   "execution_count": 21,
   "metadata": {
    "slideshow": {
     "slide_type": "fragment"
    }
   },
   "outputs": [
    {
     "name": "stdout",
     "output_type": "stream",
     "text": [
      "x = hola, y = goodbye, z = hello\n"
     ]
    }
   ],
   "source": [
    "x = \"hola\"\n",
    "print(f\"x = {x}, y = {y}, z = {z}\")"
   ]
  },
  {
   "cell_type": "markdown",
   "metadata": {
    "slideshow": {
     "slide_type": "fragment"
    }
   },
   "source": [
    "Again, trying the experiment with strings gives us a similar result and the container model is looking good."
   ]
  },
  {
   "cell_type": "code",
   "execution_count": 22,
   "metadata": {
    "slideshow": {
     "slide_type": "slide"
    }
   },
   "outputs": [
    {
     "name": "stdout",
     "output_type": "stream",
     "text": [
      "x = [1, 2, 3], y = [4, 5, 6], z = [1, 2, 3]\n"
     ]
    }
   ],
   "source": [
    "x = [1, 2, 3]\n",
    "y = [4, 5, 6]\n",
    "z = x\n",
    "print(f\"x = {x}, y = {y}, z = {z}\")"
   ]
  },
  {
   "cell_type": "code",
   "execution_count": 23,
   "metadata": {
    "slideshow": {
     "slide_type": "fragment"
    }
   },
   "outputs": [
    {
     "name": "stdout",
     "output_type": "stream",
     "text": [
      "x = [9, 2, 3], y = [4, 5, 6], z = [9, 2, 3]\n"
     ]
    }
   ],
   "source": [
    "x[0] = 9\n",
    "print(f\"x = {x}, y = {y}, z = {z}\")"
   ]
  },
  {
   "cell_type": "code",
   "execution_count": 24,
   "metadata": {
    "slideshow": {
     "slide_type": "fragment"
    }
   },
   "outputs": [
    {
     "name": "stdout",
     "output_type": "stream",
     "text": [
      "x = [9, 2, 10], y = [4, 5, 6], z = [9, 2, 10]\n"
     ]
    }
   ],
   "source": [
    "z[2] = 10\n",
    "print(f\"x = {x}, y = {y}, z = {z}\")"
   ]
  },
  {
   "cell_type": "markdown",
   "metadata": {
    "slideshow": {
     "slide_type": "slide"
    }
   },
   "source": [
    "Oh, no! When we change an element of `x`, `z` changes as well, and vice versa.\n",
    "\n",
    "What do you think is going on here?"
   ]
  },
  {
   "cell_type": "markdown",
   "metadata": {
    "slideshow": {
     "slide_type": "slide"
    }
   },
   "source": [
    "There's another aspect to consider. If variables are containers or dedicated locations for storing values, what happens when we use the same variable to refer to different types of data? Different types of data have different storage requirements - a string with the text of *Moby Dick* for example, would take much more space than the float 1.1. And yet, Python let's us do this:\n"
   ]
  },
  {
   "cell_type": "code",
   "execution_count": 25,
   "metadata": {
    "slideshow": {
     "slide_type": "slide"
    }
   },
   "outputs": [
    {
     "name": "stdout",
     "output_type": "stream",
     "text": [
      "Type of a - <class 'str'> : value of a - this is a string\n",
      "Type of a - <class 'str'> : value of a - this is a string\n"
     ]
    }
   ],
   "source": [
    "x = 1.1\n",
    "print(f\"Type of a - {type(a)} : value of a - {a}\")\n",
    "\n",
    "a = \"this is a string\"\n",
    "print(f\"Type of a - {type(a)} : value of a - {a}\")"
   ]
  },
  {
   "cell_type": "markdown",
   "metadata": {
    "slideshow": {
     "slide_type": "slide"
    }
   },
   "source": [
    "If the variable `a` is container, how can it go from holding a float, which is several bytes, but not huge,to being big enough to hold a string with many characters (even up to the entire text of *Moby Dick*)? Languages that use variables as containers usually don't allow this - once `x` is created as a float in, for example, Java, it will always be a float, and attempts to convert it to a string will raise an exception. "
   ]
  },
  {
   "cell_type": "markdown",
   "metadata": {
    "slideshow": {
     "slide_type": "slide"
    }
   },
   "source": [
    "#### the `id()` function - a new tool\n",
    "\n",
    "To help us dig a little deeper we could use a way to see if two variables are actually \"holding\" the same object. The `id()` function can help us do that because it returns the unique ID number that every Python object has. For example:"
   ]
  },
  {
   "cell_type": "code",
   "execution_count": 15,
   "metadata": {
    "slideshow": {
     "slide_type": "fragment"
    }
   },
   "outputs": [
    {
     "data": {
      "text/plain": [
       "4585138744"
      ]
     },
     "execution_count": 15,
     "metadata": {},
     "output_type": "execute_result"
    }
   ],
   "source": [
    "id(x)"
   ]
  },
  {
   "cell_type": "markdown",
   "metadata": {
    "slideshow": {
     "slide_type": "slide"
    }
   },
   "source": [
    "These ID numbers change from run to run, but at one time in the interpreter we can be sure that only one object will have a particular ID. If we use `id()` on two different variables and the ID is the same, we can be sure that we have the same ojbect."
   ]
  },
  {
   "cell_type": "code",
   "execution_count": 21,
   "metadata": {
    "slideshow": {
     "slide_type": "fragment"
    }
   },
   "outputs": [
    {
     "name": "stdout",
     "output_type": "stream",
     "text": [
      "id(x) = 4589805832, id(y) = 4585101832, id(z) = 4589805832\n"
     ]
    }
   ],
   "source": [
    "print(f\"id(x) = {id(x)}, id(y) = {id(y)}, id(z) = {id(z)}\")"
   ]
  },
  {
   "cell_type": "markdown",
   "metadata": {
    "slideshow": {
     "slide_type": "slide"
    }
   },
   "source": [
    "Here we can see that `x` and `z` have the same ID, so they must be the same object. That leaves us with 2 questions:\n",
    "\n",
    "1. How can the same object be \"in\" two variables at once?\n",
    "2. Why did things appear to work with integers and strings, but not with lists? Are there other types than list that behave like lists? Like integers and strings? How do we predict which is which?"
   ]
  },
  {
   "cell_type": "markdown",
   "metadata": {
    "slideshow": {
     "slide_type": "slide"
    }
   },
   "source": [
    "We'll answer second question shortly, but for now, lets think about the first. The mental model of variables as containers or dedicated storage space seems to be having problems. Is there another model that might handle the behavior we've seen better?"
   ]
  },
  {
   "cell_type": "markdown",
   "metadata": {
    "slideshow": {
     "slide_type": "slide"
    }
   },
   "source": [
    "### Another Model - are variables labels?\n",
    "\n",
    "Another model for Python variables is to think of them as labels or names that can be attached to different objects. (We'll worry about where those objects come from later). \n",
    "\n",
    "![](name_tag_names.png)\n",
    "\n",
    "So all of these labels might be attched to me - my name, I'm the teacher of this class, I'm a student in Spanish and Portuguese, and I'm an observer when I listen to someone else give a talk."
   ]
  },
  {
   "cell_type": "markdown",
   "metadata": {
    "slideshow": {
     "slide_type": "slide"
    }
   },
   "source": [
    "With this model the label or variable name can be attached to whatever object we choose, and more than one label can be attached to the same object.\n",
    "\n",
    "So we could say:\n",
    "```\n",
    "Naomi = (this particular human)\n",
    "teacher = Naomi \n",
    "Naomi is sitting\n",
    "Is teacher sitting? Yes\n",
    "```\n",
    "\n",
    "So to refer back to our example:"
   ]
  },
  {
   "cell_type": "code",
   "execution_count": 31,
   "metadata": {
    "slideshow": {
     "slide_type": "slide"
    }
   },
   "outputs": [],
   "source": [
    "x = 1\n",
    "y = 2\n",
    "z = x"
   ]
  },
  {
   "cell_type": "markdown",
   "metadata": {
    "slideshow": {
     "slide_type": "fragment"
    }
   },
   "source": [
    "We are attaching the label `x` to the integer constant 1, `y` to the integer object 2, and `z` to the same object that `x` is attached to. "
   ]
  },
  {
   "cell_type": "code",
   "execution_count": 32,
   "metadata": {
    "slideshow": {
     "slide_type": "fragment"
    }
   },
   "outputs": [
    {
     "name": "stdout",
     "output_type": "stream",
     "text": [
      "x = 1, y = 2, z = 1\n"
     ]
    }
   ],
   "source": [
    "print(f\"x = {x}, y = {y}, z = {z}\")"
   ]
  },
  {
   "cell_type": "markdown",
   "metadata": {
    "slideshow": {
     "slide_type": "slide"
    }
   },
   "source": [
    "Now let's change one variable, exactly as we did before:"
   ]
  },
  {
   "cell_type": "code",
   "execution_count": 34,
   "metadata": {
    "slideshow": {
     "slide_type": "fragment"
    }
   },
   "outputs": [],
   "source": [
    "x = 4"
   ]
  },
  {
   "cell_type": "markdown",
   "metadata": {
    "slideshow": {
     "slide_type": "fragment"
    }
   },
   "source": [
    "Now `x` is pointing at the integer constant 4. If we print out the values now, what would we expect to see?"
   ]
  },
  {
   "cell_type": "code",
   "execution_count": 35,
   "metadata": {
    "slideshow": {
     "slide_type": "fragment"
    }
   },
   "outputs": [
    {
     "name": "stdout",
     "output_type": "stream",
     "text": [
      "x = 4, y = 2, z = 1\n"
     ]
    }
   ],
   "source": [
    "print(f\"x = {x}, y = {y}, z = {z}\")"
   ]
  },
  {
   "cell_type": "markdown",
   "metadata": {
    "slideshow": {
     "slide_type": "slide"
    }
   },
   "source": [
    "While `x` is attached to the integer constant 4, `z` is still attached to integer object 1, which is only fair, since we didn't change what it was attached to. We can confirm this by using the `id()` function,"
   ]
  },
  {
   "cell_type": "code",
   "execution_count": 36,
   "metadata": {
    "slideshow": {
     "slide_type": "fragment"
    }
   },
   "outputs": [
    {
     "name": "stdout",
     "output_type": "stream",
     "text": [
      "x = 1, y = 2, z = 1\n",
      "id(x) = 4553949856, id(y) = 4553949888, id(z) = 4553949856\n",
      "x = 4, y = 2, z = 1\n",
      "id(x) = 4553949952, id(y) = 4553949888, id(z) = 4553949856\n"
     ]
    }
   ],
   "source": [
    "x = 1\n",
    "y = 2\n",
    "z = x\n",
    "print(f\"x = {x}, y = {y}, z = {z}\")\n",
    "print(f\"id(x) = {id(x)}, id(y) = {id(y)}, id(z) = {id(z)}\")\n",
    "x = 4\n",
    "print(f\"x = {x}, y = {y}, z = {z}\")\n",
    "print(f\"id(x) = {id(x)}, id(y) = {id(y)}, id(z) = {id(z)}\")"
   ]
  },
  {
   "cell_type": "markdown",
   "metadata": {
    "slideshow": {
     "slide_type": "slide"
    }
   },
   "source": [
    "This confirms that when we set `z` equal to `x` we just made the label `z` point to the same integer object as `x`; when we changed `x` we attached it a different object, but `z` remained associated with the original object.\n",
    "\n",
    "But what about our list example? "
   ]
  },
  {
   "cell_type": "code",
   "execution_count": 37,
   "metadata": {
    "slideshow": {
     "slide_type": "fragment"
    }
   },
   "outputs": [
    {
     "name": "stdout",
     "output_type": "stream",
     "text": [
      "x = [1, 2, 3], y = [4, 5, 6], z = [1, 2, 3]\n",
      "x = [9, 2, 3], y = [4, 5, 6], z = [9, 2, 3]\n"
     ]
    }
   ],
   "source": [
    "x = [1, 2, 3]\n",
    "y = [4, 5, 6]\n",
    "z = x\n",
    "print(f\"x = {x}, y = {y}, z = {z}\")\n",
    "x[0] = 9\n",
    "print(f\"x = {x}, y = {y}, z = {z}\")"
   ]
  },
  {
   "cell_type": "markdown",
   "metadata": {
    "slideshow": {
     "slide_type": "slide"
    }
   },
   "source": [
    "One thing to remember is that unlike the integer example we aren't making `x` point to a new list. Instead, we're simply modifying one element of the list `x` is attached to **in place**. \n",
    "\n",
    "When we use the `id()` function to inspect the lists `x`, `y`, and `z`, what do you think we'll find?\n"
   ]
  },
  {
   "cell_type": "code",
   "execution_count": 26,
   "metadata": {
    "slideshow": {
     "slide_type": "slide"
    }
   },
   "outputs": [
    {
     "name": "stdout",
     "output_type": "stream",
     "text": [
      "x = [1, 2, 3], y = [4, 5, 6], z = [1, 2, 3]\n",
      "id(x) = 4589849864, id(y) = 4589809032, id(z) = 4589849864\n",
      "\n",
      "x = [9, 2, 3], y = [4, 5, 6], z = [9, 2, 3]\n",
      "id(x) = 4589849864, id(y) = 4589809032, id(z) = 4589849864\n"
     ]
    }
   ],
   "source": [
    "x = [1, 2, 3]\n",
    "y = [4, 5, 6]\n",
    "z = x\n",
    "print(f\"x = {x}, y = {y}, z = {z}\")\n",
    "print(f\"id(x) = {id(x)}, id(y) = {id(y)}, id(z) = {id(z)}\\n\")\n",
    "x[0] = 9\n",
    "print(f\"x = {x}, y = {y}, z = {z}\")\n",
    "print(f\"id(x) = {id(x)}, id(y) = {id(y)}, id(z) = {id(z)}\")"
   ]
  },
  {
   "cell_type": "markdown",
   "metadata": {
    "slideshow": {
     "slide_type": "slide"
    }
   },
   "source": [
    "Just as we found with the integer example, both `x` and `z` are still attached to the same list object, so it makes sense that if we change an element of `x` that change will show up in `z` as well. On the other hand, if we were to assign `x` to a new list, we'd get different results:"
   ]
  },
  {
   "cell_type": "code",
   "execution_count": 38,
   "metadata": {
    "scrolled": true,
    "slideshow": {
     "slide_type": "slide"
    }
   },
   "outputs": [
    {
     "name": "stdout",
     "output_type": "stream",
     "text": [
      "x = [1, 2, 3], y = [4, 5, 6], z = [1, 2, 3]\n",
      "id(x) = 4589806472, id(y) = 4589808264, id(z) = 4589806472\n",
      "\n",
      "x = [7, 8, 9], y = [4, 5, 6], z = [1, 2, 3]\n",
      "id(x) = 4589307080, id(y) = 4589808264, id(z) = 4589806472\n"
     ]
    }
   ],
   "source": [
    "x = [1, 2, 3]\n",
    "y = [4, 5, 6]\n",
    "z = x\n",
    "print(f\"x = {x}, y = {y}, z = {z}\")\n",
    "print(f\"id(x) = {id(x)}, id(y) = {id(y)}, id(z) = {id(z)}\\n\")\n",
    "x = [7, 8, 9]\n",
    "print(f\"x = {x}, y = {y}, z = {z}\")\n",
    "print(f\"id(x) = {id(x)}, id(y) = {id(y)}, id(z) = {id(z)}\")"
   ]
  },
  {
   "cell_type": "markdown",
   "metadata": {
    "slideshow": {
     "slide_type": "fragment"
    }
   },
   "source": [
    "In this case, as the `id()` function shows, `x` is pointing to a new object, while `z` remains pointing to the old object and is unchanged."
   ]
  },
  {
   "cell_type": "markdown",
   "metadata": {
    "slideshow": {
     "slide_type": "slide"
    }
   },
   "source": [
    "### Mutable vs Immutable Objects\n",
    "\n",
    "It's worth pointing out that the reason that we can change a list (or a dictionary or a set) is that they are what we call *mutable*, that is, changable. In every case we can add, remove, or change elements *inside* the object without creating a new object. \n",
    "\n",
    "On the other hand a number of Python objects are *immutable* and can't be changed. It makes sense that objects like integers and floats would be immutable, since it makes no sense to say that the value 1 is now 2; 1 should always be 1. Other objects are immutable because of the design of Python. So strings, tuples, and frozensets are all *immutable* for various reasons, while lists, dictionaries, sets, and most user created classes are *mutable*."
   ]
  },
  {
   "cell_type": "markdown",
   "metadata": {
    "slideshow": {
     "slide_type": "slide"
    }
   },
   "source": [
    "### What about lists and dicts?\n",
    "\n",
    "Data types like lists and dicts follow the same pricinple, but with extra layers. That is, a list is an object that a variable can be attached to, and it contains implied labels (for lists, it's the index values, starting from 0) that are attached to each element of the list. And in turn each element of the list might be a variable that is attached to another object that contains more objects, and so on. \n",
    "\n",
    "The same thing is true for dictionaries, except the keys are the way we access those implied labels for items in the dictionary."
   ]
  },
  {
   "cell_type": "code",
   "execution_count": 34,
   "metadata": {
    "slideshow": {
     "slide_type": "slide"
    }
   },
   "outputs": [
    {
     "name": "stdout",
     "output_type": "stream",
     "text": [
      "x = [[9, 4], [5, 6]], z = [[9, 4], [5, 6]]\n",
      "\n",
      "id(x[[0]) = 4352547208, id(z[0]) = 4352547208\n"
     ]
    }
   ],
   "source": [
    "x = [[1,4], [5, 6]]\n",
    "z = x\n",
    "z[0][0] = 9\n",
    "print(f\"x = {x}, z = {z}\\n\")\n",
    "print(f\"id(x[[0]) = {id(x[0])}, id(z[0]) = {id(z[0])}\")"
   ]
  },
  {
   "cell_type": "markdown",
   "metadata": {
    "slideshow": {
     "slide_type": "slide"
    }
   },
   "source": [
    "### So what have we learned?\n",
    "\n",
    "**Variables in Python are better thought of as names or labels.** Just as you can give an object many names, in Python the same object can be pointed to by more than one variable. \n",
    "\n",
    "If the object being pointed to can be changed, i.e., if it is *mutable*, then changing it will be reflected everywhere, no matter what variable name is used. In contrast, since *immutable* objects can't themselves be changed and the only way to assign a different value is to create a new object, changing the immutable object (e.g., integers, floats, tuples, or frozensets) pointed to by one variable will leave any other variables still pointing to the original, unchanged object."
   ]
  },
  {
   "cell_type": "markdown",
   "metadata": {
    "slideshow": {
     "slide_type": "slide"
    }
   },
   "source": [
    "### Try some more examples\n",
    "\n",
    "Think about the examples below and decide what will be printed in each case:\n"
   ]
  },
  {
   "cell_type": "code",
   "execution_count": null,
   "metadata": {
    "slideshow": {
     "slide_type": "slide"
    }
   },
   "outputs": [],
   "source": [
    "x = (1, 2, 3)\n",
    "z = x\n",
    "x = (7, 8, 9)\n",
    "\n",
    "print(x)\n",
    "print(z)"
   ]
  },
  {
   "cell_type": "code",
   "execution_count": null,
   "metadata": {
    "slideshow": {
     "slide_type": "slide"
    }
   },
   "outputs": [],
   "source": [
    "x = {\"one\":1}\n",
    "z = x\n",
    "\n",
    "z[\"two\"] = 2\n",
    "print(x)\n",
    "print(z)"
   ]
  },
  {
   "cell_type": "code",
   "execution_count": null,
   "metadata": {
    "slideshow": {
     "slide_type": "slide"
    }
   },
   "outputs": [],
   "source": [
    "x = \"one\"\n",
    "z = x\n",
    "\n",
    "z = \"two\"\n",
    "print(x)\n",
    "print(z)"
   ]
  },
  {
   "cell_type": "code",
   "execution_count": 28,
   "metadata": {
    "slideshow": {
     "slide_type": "slide"
    }
   },
   "outputs": [
    {
     "name": "stdout",
     "output_type": "stream",
     "text": [
      "[[1, 2, 3, 4], [5, 6]]\n",
      "[[1, 2, 3, 4], [5, 6]]\n"
     ]
    }
   ],
   "source": [
    "x = [[1,4], [5, 6]]\n",
    "z = x\n",
    "\n",
    "z[0][1:1] = [2,3]\n",
    "print(x)\n",
    "print(z)"
   ]
  },
  {
   "cell_type": "code",
   "execution_count": null,
   "metadata": {
    "slideshow": {
     "slide_type": "slide"
    }
   },
   "outputs": [],
   "source": []
  },
  {
   "cell_type": "markdown",
   "metadata": {
    "slideshow": {
     "slide_type": "slide"
    }
   },
   "source": [
    "## Thanks\n",
    "\n",
    "This notebook - https://github.com/nceder/exploring_python\n",
    "\n",
    "*The Quick Python Book*, 3rd ed, ebook FREE until May 30th! - http://bit.ly/quick-python\n",
    "\n",
    "Me - https://naomiceder.tech, @naomiceder\n"
   ]
  }
 ],
 "metadata": {
  "celltoolbar": "Slideshow",
  "kernelspec": {
   "display_name": "Python 3",
   "language": "python",
   "name": "python3"
  },
  "language_info": {
   "codemirror_mode": {
    "name": "ipython",
    "version": 3
   },
   "file_extension": ".py",
   "mimetype": "text/x-python",
   "name": "python",
   "nbconvert_exporter": "python",
   "pygments_lexer": "ipython3",
   "version": "3.6.4"
  },
  "livereveal": {
   "scroll": true,
   "start_slideshow_at": "selected",
   "theme": "white",
   "transition": "none"
  }
 },
 "nbformat": 4,
 "nbformat_minor": 2
}
